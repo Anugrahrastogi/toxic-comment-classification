{
 "cells": [
  {
   "cell_type": "markdown",
   "id": "3ab302ee",
   "metadata": {},
   "source": [
    "# Toxic Comment Classification\n",
    "This notebook demonstrates a multi-label classification model for predicting six types of toxicity using TF-IDF and Logistic Regression."
   ]
  },
  {
   "cell_type": "markdown",
   "id": "ed338770",
   "metadata": {},
   "source": [
    "## Step 1: Import Libraries"
   ]
  },
  {
   "cell_type": "code",
   "execution_count": null,
   "id": "3e1721dc",
   "metadata": {},
   "outputs": [],
   "source": [
    "import pandas as pd\n",
    "import numpy as np\n",
    "import matplotlib.pyplot as plt\n",
    "import seaborn as sns\n",
    "\n",
    "from sklearn.model_selection import train_test_split\n",
    "from sklearn.feature_extraction.text import TfidfVectorizer\n",
    "from sklearn.linear_model import LogisticRegression\n",
    "from sklearn.metrics import classification_report, accuracy_score\n",
    "\n",
    "from sklearn.multiclass import OneVsRestClassifier\n",
    "import re\n"
   ]
  },
  {
   "cell_type": "markdown",
   "id": "10f65f83",
   "metadata": {},
   "source": [
    "## Step 2: Load and Clean the Data"
   ]
  },
  {
   "cell_type": "code",
   "execution_count": null,
   "id": "cf2f30a1",
   "metadata": {},
   "outputs": [],
   "source": [
    "# Load data\n",
    "df = pd.read_csv(\"/Users/anugrahrastogi21gmail.com/Downloads/comments.csv\")\n",
    "\n",
    "# Fill missing comments\n",
    "df[\"comment_text\"].fillna(\"unknown\", inplace=True)\n",
    "\n",
    "# Basic text cleaning\n",
    "def clean_text(text):\n",
    "    text = text.lower()\n",
    "    text = re.sub(r\"[^a-zA-Z0-9\\s]\", \"\", text)  # remove special chars\n",
    "    text = re.sub(r\"\\s+\", \" \", text).strip()    # remove extra whitespace\n",
    "    return text\n",
    "\n",
    "df[\"clean_text\"] = df[\"comment_text\"].apply(clean_text)\n",
    "\n",
    "# Display class distribution\n",
    "label_cols = ['toxic', 'severe_toxic', 'obscene', 'threat', 'insult', 'identity_hate']\n",
    "df[label_cols].sum().plot(kind=\"bar\", title=\"Class distribution\")\n",
    "plt.show()\n"
   ]
  },
  {
   "cell_type": "markdown",
   "id": "29609a7a",
   "metadata": {},
   "source": [
    "## Step 3: Split the Data"
   ]
  },
  {
   "cell_type": "code",
   "execution_count": null,
   "id": "fc6e927e",
   "metadata": {},
   "outputs": [],
   "source": [
    "X = df[\"clean_text\"]\n",
    "y = df[label_cols]\n",
    "\n",
    "X_train, X_test, y_train, y_test = train_test_split(X, y, test_size=0.2, random_state=42)\n"
   ]
  },
  {
   "cell_type": "markdown",
   "id": "bd5766f4",
   "metadata": {},
   "source": [
    "## Step 4: TF-IDF Vectorization"
   ]
  },
  {
   "cell_type": "code",
   "execution_count": null,
   "id": "7f301d78",
   "metadata": {},
   "outputs": [],
   "source": [
    "tfidf = TfidfVectorizer(max_features=10000, ngram_range=(1, 2), stop_words='english')\n",
    "X_train_tfidf = tfidf.fit_transform(X_train)\n",
    "X_test_tfidf = tfidf.transform(X_test)\n"
   ]
  },
  {
   "cell_type": "markdown",
   "id": "5116a5c3",
   "metadata": {},
   "source": [
    "## Step 5: Train One-vs-Rest Logistic Regression"
   ]
  },
  {
   "cell_type": "code",
   "execution_count": null,
   "id": "f1f6c774",
   "metadata": {},
   "outputs": [],
   "source": [
    "model = OneVsRestClassifier(LogisticRegression(solver='liblinear', C=1.0))\n",
    "model.fit(X_train_tfidf, y_train)\n"
   ]
  },
  {
   "cell_type": "markdown",
   "id": "52fb973c",
   "metadata": {},
   "source": [
    "## Step 6: Evaluate the Model"
   ]
  },
  {
   "cell_type": "code",
   "execution_count": null,
   "id": "55e1f104",
   "metadata": {},
   "outputs": [],
   "source": [
    "y_pred = model.predict(X_test_tfidf)\n",
    "\n",
    "for i, label in enumerate(label_cols):\n",
    "    print(f\"\\nClassification report for {label}:\")\n",
    "    print(classification_report(y_test.iloc[:, i], y_pred[:, i], zero_division=0))\n"
   ]
  }
 ],
 "metadata": {},
 "nbformat": 4,
 "nbformat_minor": 5
}
